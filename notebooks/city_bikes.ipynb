{
 "cells": [
  {
   "cell_type": "markdown",
   "metadata": {},
   "source": "# CityBikes"
  },
  {
   "metadata": {
    "ExecuteTime": {
     "end_time": "2024-11-18T23:47:38.338270Z",
     "start_time": "2024-11-18T23:47:38.336091Z"
    }
   },
   "cell_type": "code",
   "source": [
    "import pandas as pd\n",
    "import json"
   ],
   "outputs": [],
   "execution_count": 14
  },
  {
   "metadata": {
    "ExecuteTime": {
     "end_time": "2024-11-18T23:47:39.023530Z",
     "start_time": "2024-11-18T23:47:38.342991Z"
    }
   },
   "cell_type": "code",
   "source": [
    "# API Base URL \n",
    "base_api = 'http://api.citybik.es/v2/networks'\n",
    "# Read the json\n",
    "data = pd.read_json(base_api)\n",
    "# Store formated data in DataFrame\n",
    "networks = pd.json_normalize(data['networks'])\n",
    "# Display a sample of the data\n",
    "print(networks.head(1))\n",
    "# Show networks ID & City in Poland\n",
    "print(networks[['id', 'location.city']][networks['location.country'] == 'TW'].reset_index(drop=True))"
   ]
