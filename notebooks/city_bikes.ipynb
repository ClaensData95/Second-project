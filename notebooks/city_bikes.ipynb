{
 "cells": [
  {
   "cell_type": "markdown",
   "metadata": {},
   "source": [
    "# CityBikes"
   ]
  },
  {
   "cell_type": "code",
   "execution_count": 1,
   "metadata": {},
   "outputs": [],
   "source": [
    "import pandas as pd\n",
    "import json"
   ]
  },
  {
   "cell_type": "code",
   "execution_count": 7,
   "metadata": {},
   "outputs": [
    {
     "name": "stdout",
     "output_type": "stream",
     "text": [
      "                      id                   name  \\\n",
      "0  abu-dhabi-careem-bike  Abu Dhabi Careem BIKE   \n",
      "\n",
      "                                 href   company  \\\n",
      "0  /v2/networks/abu-dhabi-careem-bike  [Careem]   \n",
      "\n",
      "                                           gbfs_href  location.latitude  \\\n",
      "0  https://dubai.publicbikesystem.net/customer/gb...            24.4866   \n",
      "\n",
      "   location.longitude location.city location.country system source ebikes  \\\n",
      "0             54.3728     Abu Dhabi               AE    NaN    NaN    NaN   \n",
      "\n",
      "  license.name license.url scooters instances  \n",
      "0          NaN         NaN      NaN       NaN  \n",
      "                              id                  location.city\n",
      "0            youbike-chiayi-city                 台灣 Chiayi City\n",
      "1           youbike-hsinchu-city               新竹市 Hsinchu City\n",
      "2         youbike-hsinchu-county             新竹縣 Hsinchu County\n",
      "3   youbike-hsinchu-science-park  新竹科學工業園區 Hsinchu Science Park\n",
      "4         youbike-kaohsiung-city             高雄市 Kaohsiung City\n",
      "5          youbike-miaoli-county               台灣 Miaoli County\n",
      "6             youbike-new-taipei                 新北市 New Taipei\n",
      "7        youbike-pingtung-county            屏東縣 Pingtung County\n",
      "8               youbike-taichung              臺中市 Taichung City\n",
      "9            youbike-tainan-city                臺南市 Tainan City\n",
      "10                youbike-taipei                台北市 Taipei City\n",
      "11               youbike-taoyuan               桃園市 Taoyuan City\n"
     ]
    }
   ],
   "source": [
    "# API Base URL \n",
    "base_api = 'http://api.citybik.es/v2/networks'\n",
    "# Read the json\n",
    "data = pd.read_json(base_api)\n",
    "# Store formated data in DataFrame\n",
    "networks = pd.json_normalize(data['networks'])\n",
    "# Display a sample of the data\n",
    "print(networks.head(1))\n",
    "# Show networks ID & City in Taiwan\n",
    "print(networks[['id', 'location.city']][networks['location.country'] == 'TW'].reset_index(drop=True))"
   ]
  },
  {
   "cell_type": "markdown",
   "metadata": {},
   "source": [
    "Send a request to CityBikes for the city of your choice. "
   ]
  },
  {
   "cell_type": "code",
   "execution_count": 8,
   "metadata": {},
   "outputs": [],
   "source": [
    "# Bike Network in Tainan, Taiwan\n",
    "network_id = 'youbike-tainan-city'\n",
    "# Get data fron API\n",
    "data = pd.read_json(base_api + f'/{network_id}?fields=stations')\n",
    "# Filter the data\n",
    "stations = data['network']['stations'].copy()\n",
    "# stations"
   ]
  },
  {
   "cell_type": "markdown",
   "metadata": {},
   "source": [
    "Parse through the response to get the details you want for the bike stations in that city (latitude, longitude, number of bikes). "
   ]
  },
  {
   "cell_type": "code",
   "execution_count": 4,
   "metadata": {},
   "outputs": [],
   "source": [
    "# Save all stations info in a list\n",
    "stations_list = []\n",
    "for i, station in enumerate(stations):\n",
    "    lat = f\"{station['latitude']:.6f}\"\n",
    "    lon = f\"{station['longitude']:.6f}\"\n",
    "    free = station['free_bikes']\n",
    "    bikes = 'bike' if free == 1 else 'bikes'\n",
    "    # print(station['name'])\n",
    "    # print(f\"{i + 1}. ({lat}, {lon}) : {free} {bikes} available\")\n",
    "    # if lat == '43.6532': print(station['name'])\n",
    "    stations_list.append(\n",
    "        {\n",
    "            'latitude': float(lat),\n",
    "            'longitude': float(lon),\n",
    "            'bikes_available': int(free)\n",
    "        },\n",
    "    )"
   ]
  },
  {
   "cell_type": "markdown",
   "metadata": {},
   "source": [
    "Put your parsed results into a DataFrame."
   ]
  },
  {
   "cell_type": "code",
   "execution_count": 5,
   "metadata": {},
   "outputs": [
    {
     "name": "stdout",
     "output_type": "stream",
     "text": [
      "      latitude   longitude  bikes_available\n",
      "482  22.992150  120.231230               32\n",
      "95   23.003997  120.200593               31\n",
      "158  22.989290  120.231160               30\n",
      "135  22.922310  120.227280               29\n",
      "496  23.133640  120.305990               29\n",
      "<class 'pandas.core.frame.DataFrame'>\n",
      "RangeIndex: 525 entries, 0 to 524\n",
      "Data columns (total 3 columns):\n",
      " #   Column           Non-Null Count  Dtype  \n",
      "---  ------           --------------  -----  \n",
      " 0   latitude         525 non-null    float64\n",
      " 1   longitude        525 non-null    float64\n",
      " 2   bikes_available  525 non-null    int64  \n",
      "dtypes: float64(2), int64(1)\n",
      "memory usage: 12.4 KB\n"
     ]
    }
   ],
   "source": [
    "# Store the list in a DataFrame\n",
    "stations_df = pd.DataFrame(stations_list)\n",
    "# Print top 5 station with most bikes available\n",
    "print(stations_df.sort_values(by='bikes_available', ascending=False).head())\n",
    "# DataFrame Info\n",
    "stations_df.info()"
   ]
  },
  {
   "cell_type": "code",
   "execution_count": 6,
   "metadata": {},
   "outputs": [],
   "source": [
    "# Saving data into CSV file\n",
    "stations_df.to_csv('../data/city_bikes.csv', index=False)"
   ]
  }
 ],
 "metadata": {
  "kernelspec": {
   "display_name": "my_cr7",
   "language": "python",
   "name": "python3"
  },
  "language_info": {
   "codemirror_mode": {
    "name": "ipython",
    "version": 3
   },
   "file_extension": ".py",
   "mimetype": "text/x-python",
   "name": "python",
   "nbconvert_exporter": "python",
   "pygments_lexer": "ipython3",
   "version": "3.7.12"
  }
 },
 "nbformat": 4,
 "nbformat_minor": 4
}
